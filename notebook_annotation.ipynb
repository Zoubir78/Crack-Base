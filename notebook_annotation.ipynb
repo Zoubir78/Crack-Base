{
 "cells": [
  {
   "cell_type": "code",
   "execution_count": null,
   "id": "d3f5b35b",
   "metadata": {},
   "outputs": [],
   "source": [
    "\n",
    "        import os\n",
    "        import cv2\n",
    "        from tkinter import *\n",
    "        from tkinter import ttk, messagebox\n",
    "        from tkinter import simpledialog\n",
    "        from tkinter import filedialog\n",
    "        from PIL import Image, ImageTk\n",
    "        from io import BytesIO\n",
    "        from threading import Thread\n",
    "        from webbrowser import open_new\n",
    "        from datetime import datetime\n",
    "        from backend import *\n",
    "        from backend2 import *\n",
    "        from backend3 import *\n",
    "        from annotation import *\n",
    "        os.chdir('{os.path.dirname(os.path.abspath(__file__))}')\n",
    "        exec(open('annotation.py').read())\n",
    "        "
   ]
  }
 ],
 "metadata": {},
 "nbformat": 4,
 "nbformat_minor": 5
}
